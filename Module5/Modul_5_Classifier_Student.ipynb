{
  "cells": [
    {
      "cell_type": "markdown",
      "metadata": {
        "id": "EHmZ1dqTpfJf"
      },
      "source": [
        "# Hello 'classifier'\n",
        "\n",
        "The question we want to ask of this cuisine dataset is actually a multiclass question, as we have several potential national cuisines to work with. Given a batch of ingredients, which of these many classes will the data fit?\n",
        "\n",
        "Scikit-learn offers several different algorithms to use to classify data, depending on the kind of problem you want to solve. In the next two lessons, you'll learn about several of these algorithms."
      ]
    },
    {
      "cell_type": "markdown",
      "metadata": {
        "id": "pQLNrcMvpfJh"
      },
      "source": [
        "## Exercise - clean and balance your data\n",
        "\n",
        "The first task at hand, before starting this project, is to clean and balance your data to get better results. Start with the blank notebook.ipynb file in the root of this folder.\n",
        "\n",
        "The first thing to install is imblearn. This is a Scikit-learn package that will allow you to better balance the data (you will learn more about this task in a minute).\n",
        "\n",
        "1. To install imblearn, run pip install in your environment's terminal, like so:\n",
        "\n",
        "> > pip install imblearn"
      ]
    },
    {
      "cell_type": "markdown",
      "metadata": {
        "id": "jUssUwo1pfJh"
      },
      "source": [
        "2. Import the packages you need to import your data and visualize it, also import SMOTE from imblearn."
      ]
    },
    {
      "cell_type": "code",
      "execution_count": null,
      "metadata": {
        "id": "B1g2PcyXpfJi"
      },
      "outputs": [],
      "source": [
        "import pandas as pd\n",
        "import matplotlib.pyplot as plt\n",
        "import matplotlib as mpl\n",
        "import numpy as np\n",
        "from imblearn.over_sampling import SMOTE"
      ]
    },
    {
      "cell_type": "markdown",
      "metadata": {
        "id": "LFsUmvUhpfJj"
      },
      "source": [
        "3. The next task will be to import the data:\n",
        "\n",
        "The cuisines.csv file will be provided by your professor."
      ]
    },
    {
      "cell_type": "code",
      "execution_count": null,
      "metadata": {
        "id": "vzMVv-NXpfJj"
      },
      "outputs": [],
      "source": [
        "df  = pd.read_csv('../data/cuisines.csv')"
      ]
    },
    {
      "cell_type": "markdown",
      "metadata": {
        "id": "QW-m0abopfJj"
      },
      "source": [
        "4. Check the data's shape:"
      ]
    },
    {
      "cell_type": "code",
      "execution_count": null,
      "metadata": {
        "id": "J2RBSfOEpfJj"
      },
      "outputs": [],
      "source": [
        "df.head()"
      ]
    },
    {
      "cell_type": "markdown",
      "metadata": {
        "id": "SX14WtFqpfJk"
      },
      "source": [
        "5. Get info about this data by calling info():"
      ]
    },
    {
      "cell_type": "code",
      "execution_count": null,
      "metadata": {
        "id": "907hAqbIpfJk"
      },
      "outputs": [],
      "source": [
        "df.info()"
      ]
    },
    {
      "cell_type": "markdown",
      "metadata": {
        "id": "Q_6ZTIVEpfJl"
      },
      "source": [
        "## Exercise - learning about cuisines\n",
        "1. Plot the data as bars by calling barh():"
      ]
    },
    {
      "cell_type": "code",
      "execution_count": null,
      "metadata": {
        "id": "mIcZp-eMpfJl"
      },
      "outputs": [],
      "source": [
        "df.cuisine.value_counts().plot.barh()"
      ]
    },
    {
      "cell_type": "markdown",
      "metadata": {
        "id": "Kwu_Up44pfJl"
      },
      "source": [
        "There are a finite number of cuisines, but the distribution of data is uneven. You can fix that! Before doing so, explore a little more.\n",
        "\n",
        "2. Find out how much data is available per cuisine and print it out:"
      ]
    },
    {
      "cell_type": "code",
      "execution_count": null,
      "metadata": {
        "id": "kBPuWkkSpfJm"
      },
      "outputs": [],
      "source": [
        "thai_df = df[(df.cuisine == \"thai\")]\n",
        "japanese_df = df[(df.cuisine == \"japanese\")]\n",
        "chinese_df = df[(df.cuisine == \"chinese\")]\n",
        "indian_df = df[(df.cuisine == \"indian\")]\n",
        "korean_df = df[(df.cuisine == \"korean\")]\n",
        "\n",
        "print(f'thai df: {thai_df.shape}')\n",
        "print(f'japanese df: {japanese_df.shape}')\n",
        "print(f'chinese df: {chinese_df.shape}')\n",
        "print(f'indian df: {indian_df.shape}')\n",
        "print(f'korean df: {korean_df.shape}')"
      ]
    },
    {
      "cell_type": "markdown",
      "metadata": {
        "id": "CpNgHoJApfJm"
      },
      "source": [
        "## Discovering ingredients\n",
        "\n",
        "Now you can dig deeper into the data and learn what are the typical ingredients per cuisine. You should clean out recurrent data that creates confusion between cuisines, so let's learn about this problem.\n",
        "\n",
        "1. Create a function create_ingredient() in Python to create an ingredient dataframe. This function will start by dropping an unhelpful column and sort through ingredients by their count:"
      ]
    },
    {
      "cell_type": "code",
      "execution_count": null,
      "metadata": {
        "id": "bYN1XoEspfJm"
      },
      "outputs": [],
      "source": [
        "def create_ingredient_df(df):\n",
        "    ingredient_df = df.T.drop(['cuisine','Unnamed: 0']).sum(axis=1).to_frame('value')\n",
        "    ingredient_df = ingredient_df[(ingredient_df.T != 0).any()]\n",
        "    ingredient_df = ingredient_df.sort_values(by='value', ascending=False,\n",
        "    inplace=False)\n",
        "    return ingredient_df"
      ]
    },
    {
      "cell_type": "markdown",
      "metadata": {
        "id": "V_tBDXBApfJm"
      },
      "source": [
        "Now you can use that function to get an idea of top ten most popular ingredients by cuisine.\n",
        "\n",
        "2. Call create_ingredient() and plot it calling barh():"
      ]
    },
    {
      "cell_type": "code",
      "execution_count": null,
      "metadata": {
        "id": "YpR9VJMcpfJm"
      },
      "outputs": [],
      "source": [
        "thai_ingredient_df = create_ingredient_df(thai_df)\n",
        "thai_ingredient_df.head(10).plot.barh()"
      ]
    },
    {
      "cell_type": "markdown",
      "metadata": {
        "id": "1V8TKSc0pfJn"
      },
      "source": [
        "3. Do the same for the japanese data:"
      ]
    },
    {
      "cell_type": "code",
      "execution_count": null,
      "metadata": {
        "id": "pGfW0JaapfJn"
      },
      "outputs": [],
      "source": [
        "japanese_ingredient_df = create_ingredient_df(japanese_df)\n",
        "japanese_ingredient_df.head(10).plot.barh()"
      ]
    },
    {
      "cell_type": "markdown",
      "metadata": {
        "id": "csM61Ik6pfJn"
      },
      "source": [
        "4. Now for the chinese ingredients:"
      ]
    },
    {
      "cell_type": "code",
      "execution_count": null,
      "metadata": {
        "id": "OZh-oJZdpfJo"
      },
      "outputs": [],
      "source": [
        "chinese_ingredient_df = create_ingredient_df(chinese_df)\n",
        "chinese_ingredient_df.head(10).plot.barh()"
      ]
    },
    {
      "cell_type": "markdown",
      "metadata": {
        "id": "fNAtZ4rApfJo"
      },
      "source": [
        "5. Plot the indian ingredients:"
      ]
    },
    {
      "cell_type": "code",
      "execution_count": null,
      "metadata": {
        "id": "FypNEv-BpfJo"
      },
      "outputs": [],
      "source": [
        "indian_ingredient_df = create_ingredient_df(indian_df)\n",
        "indian_ingredient_df.head(10).plot.barh()"
      ]
    },
    {
      "cell_type": "markdown",
      "metadata": {
        "id": "AIEEQlHIpfJo"
      },
      "source": [
        "6. Finally, plot the korean ingredients:"
      ]
    },
    {
      "cell_type": "code",
      "execution_count": null,
      "metadata": {
        "id": "aocoS9D4pfJp"
      },
      "outputs": [],
      "source": [
        "korean_ingredient_df = create_ingredient_df(korean_df)\n",
        "korean_ingredient_df.head(10).plot.barh()"
      ]
    },
    {
      "cell_type": "markdown",
      "metadata": {
        "id": "nsXVu-1kpfJp"
      },
      "source": [
        "7. Now, drop the most common ingredients that create confusion between distinct cuisines, by calling drop():\n",
        "\n",
        "Everyone loves rice, garlic and ginger!"
      ]
    },
    {
      "cell_type": "code",
      "execution_count": null,
      "metadata": {
        "id": "XOdFUa-ppfJp"
      },
      "outputs": [],
      "source": [
        "feature_df= df.drop(['cuisine','Unnamed: 0','rice','garlic','ginger'], axis=1)\n",
        "labels_df = df.cuisine #.unique()\n",
        "feature_df.head()"
      ]
    },
    {
      "cell_type": "markdown",
      "metadata": {
        "id": "ItN1Wl8_pfJp"
      },
      "source": [
        "## Balance the dataset\n",
        "Now that you have cleaned the data, use SMOTE - \"Synthetic Minority Over-sampling Technique\" - to balance it.\n",
        "\n",
        "1. Call fit_resample(), this strategy generates new samples by interpolation."
      ]
    },
    {
      "cell_type": "code",
      "execution_count": null,
      "metadata": {
        "id": "9WMQAZwnpfJp"
      },
      "outputs": [],
      "source": [
        "oversample = SMOTE()\n",
        "transformed_feature_df, transformed_label_df = oversample.fit_resample(feature_df, labels_df)"
      ]
    },
    {
      "cell_type": "markdown",
      "metadata": {
        "id": "-tAzVR5ypfJq"
      },
      "source": [
        "By balancing your data, you'll have better results when classifying it. Think about a binary classification. If most of your data is one class, a ML model is going to predict that class more frequently, just because there is more data for it. Balancing the data takes any skewed data and helps remove this imbalance.\n",
        "\n",
        "2. Now you can check the numbers of labels per ingredient:"
      ]
    },
    {
      "cell_type": "code",
      "execution_count": null,
      "metadata": {
        "id": "fEoMJV3ZpfJq"
      },
      "outputs": [],
      "source": [
        "print(f'new label count: {transformed_label_df.value_counts()}')\n",
        "print(f'old label count: {df.cuisine.value_counts()}')"
      ]
    },
    {
      "cell_type": "markdown",
      "metadata": {
        "id": "N8XFXAfppfJq"
      },
      "source": [
        "The data is nice and clean, balanced, and very delicious!\n",
        "\n",
        "3. The last step is to save your balanced data, including labels and features, into a new dataframe that can be exported into a file:"
      ]
    },
    {
      "cell_type": "code",
      "execution_count": null,
      "metadata": {
        "id": "ZnLARdmFpfJq"
      },
      "outputs": [],
      "source": [
        "transformed_df = pd.concat([transformed_label_df,transformed_feature_df],axis=1, join='outer')"
      ]
    },
    {
      "cell_type": "markdown",
      "metadata": {
        "id": "YHzKuWG3pfJq"
      },
      "source": [
        "4. You can take one more look at the data using transformed_df.head() and transformed_df.info(). Save a copy of this data for use in future lessons:"
      ]
    },
    {
      "cell_type": "code",
      "execution_count": null,
      "metadata": {
        "id": "EITM4IE3pfJr"
      },
      "outputs": [],
      "source": [
        "transformed_df.head()\n",
        "transformed_df.info()\n",
        "transformed_df.to_csv(\"../data/cleaned_cuisines.csv\")"
      ]
    },
    {
      "cell_type": "markdown",
      "metadata": {
        "id": "9pzVv247pfJr"
      },
      "source": [
        "This fresh CSV (cleaned_cuisines.csv) can now be found in the root data folder.\n",
        "Note: You may need to adjust your folder output to ensure the transformed file properly."
      ]
    }
  ],
  "metadata": {
    "kernelspec": {
      "display_name": "Python 3",
      "language": "python",
      "name": "python3"
    },
    "language_info": {
      "codemirror_mode": {
        "name": "ipython",
        "version": 3
      },
      "file_extension": ".py",
      "mimetype": "text/x-python",
      "name": "python",
      "nbconvert_exporter": "python",
      "pygments_lexer": "ipython3",
      "version": "3.12.1"
    },
    "colab": {
      "provenance": []
    }
  },
  "nbformat": 4,
  "nbformat_minor": 0
}